{
 "cells": [
  {
   "cell_type": "markdown",
   "metadata": {},
   "source": [
    "# miniXtreme 10.0"
   ]
  },
  {
   "cell_type": "code",
   "execution_count": 1,
   "metadata": {},
   "outputs": [],
   "source": [
    "import numpy as np\n",
    "import pandas as pd"
   ]
  },
  {
   "cell_type": "markdown",
   "metadata": {},
   "source": [
    "### Food Truck"
   ]
  },
  {
   "cell_type": "code",
   "execution_count": 158,
   "metadata": {},
   "outputs": [
    {
     "data": {
      "text/plain": [
       "[9020320007, 9020320045, 9020320084, 9020357584, 9020357593, 9020357607]"
      ]
     },
     "execution_count": 158,
     "metadata": {},
     "output_type": "execute_result"
    }
   ],
   "source": [
    "# Distance:\n",
    "r_earth = 6378.137\n",
    "r = 1\n",
    "lat1 = 18.9778972\n",
    "long1 = 72.8321983 \n",
    "d = 2 * r_earth * np.arcsin(np.sqrt((np.sin((lat1-df['Latitude'])/2))**2 + (np.cos(lat1) * np.cos(df['Latitude']) * np.sin((long1-df['Longitude'])/2)**2)))\n",
    "\n",
    "# Input\n",
    "df = pd.read_csv('FoodTruckData.csv')\n",
    "df['distance'] = d\n",
    "df['Date&Time'] = pd.to_datetime(df['Date&Time'])\n",
    "\n",
    "numbers_duplicated = np.unique((df.loc[df['PhoneNumber'].duplicated() == True]['PhoneNumber'].values))   \n",
    "df2 = df.loc[df.groupby('PhoneNumber')['Date&Time'].idxmax()]\n",
    "df3 = df2[(df2['distance'] >= 1) & (df2['distance'] <= 100)]\n",
    "\n",
    "# Phone Number\n",
    "Number = list(df3['PhoneNumber'])\n",
    "Number"
   ]
  },
  {
   "cell_type": "code",
   "execution_count": null,
   "metadata": {},
   "outputs": [],
   "source": []
  },
  {
   "cell_type": "markdown",
   "metadata": {},
   "source": [
    "# Game of Stones 1"
   ]
  },
  {
   "cell_type": "code",
   "execution_count": 73,
   "metadata": {},
   "outputs": [],
   "source": [
    "def winner(number_stones_each_pile):\n",
    "    L1 = number_stones_each_pile\n",
    "    L2 = [i for i in L1 if i != 1]\n",
    "    for i in L2:\n",
    "        if(i>3):\n",
    "            int_div = i//3\n",
    "            for k in range(1,int_div+1):\n",
    "                L2.append(3) \n",
    "    if(len(L2)%2==0):\n",
    "        print('Bob')\n",
    "    else:\n",
    "        print('Alice')"
   ]
  },
  {
   "cell_type": "code",
   "execution_count": 75,
   "metadata": {},
   "outputs": [
    {
     "name": "stdout",
     "output_type": "stream",
     "text": [
      "Bob\n"
     ]
    }
   ],
   "source": [
    "winner([3,5,3])"
   ]
  },
  {
   "cell_type": "code",
   "execution_count": null,
   "metadata": {},
   "outputs": [],
   "source": []
  }
 ],
 "metadata": {
  "kernelspec": {
   "display_name": "Python 3",
   "language": "python",
   "name": "python3"
  },
  "language_info": {
   "codemirror_mode": {
    "name": "ipython",
    "version": 3
   },
   "file_extension": ".py",
   "mimetype": "text/x-python",
   "name": "python",
   "nbconvert_exporter": "python",
   "pygments_lexer": "ipython3",
   "version": "3.7.6"
  }
 },
 "nbformat": 4,
 "nbformat_minor": 4
}
